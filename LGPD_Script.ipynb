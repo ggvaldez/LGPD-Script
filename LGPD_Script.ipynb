{
  "nbformat": 4,
  "nbformat_minor": 0,
  "metadata": {
    "colab": {
      "name": "LGPD-Script",
      "provenance": [],
      "collapsed_sections": [],
      "authorship_tag": "ABX9TyO0efEIYBmDW7RVYmmetIFG",
      "include_colab_link": true
    },
    "kernelspec": {
      "name": "python3",
      "display_name": "Python 3"
    },
    "language_info": {
      "name": "python"
    }
  },
  "cells": [
    {
      "cell_type": "markdown",
      "metadata": {
        "id": "view-in-github",
        "colab_type": "text"
      },
      "source": [
        "<a href=\"https://colab.research.google.com/github/ggvaldez/LGPD-Script/blob/main/LGPD_Script.ipynb\" target=\"_parent\"><img src=\"https://colab.research.google.com/assets/colab-badge.svg\" alt=\"Open In Colab\"/></a>"
      ]
    },
    {
      "cell_type": "markdown",
      "metadata": {
        "id": "o7ul8Q84GET8"
      },
      "source": [
        "Defina aqui a URL da planilha a ser utilizada para a LGPD"
      ]
    },
    {
      "cell_type": "code",
      "metadata": {
        "id": "tAcUvnRiF_oa"
      },
      "source": [
        "url_google_sheets = 'https://docs.google.com/spreadsheets/d/DOCUMENTO_AQUI' # Insira a url dentro das aspas"
      ],
      "execution_count": null,
      "outputs": []
    },
    {
      "cell_type": "markdown",
      "metadata": {
        "id": "0640gc_6GVgI"
      },
      "source": [
        "Esse trecho autentica na sua conta Google e acessa a Planilha\n"
      ]
    },
    {
      "cell_type": "code",
      "metadata": {
        "id": "WnMlvbANEmOK"
      },
      "source": [
        "from google.colab import auth\n",
        "auth.authenticate_user()\n",
        "import gspread\n",
        "from oauth2client.client import GoogleCredentials\n",
        "gc = gspread.authorize(GoogleCredentials.get_application_default())\n",
        "wb = gc.open_by_url(url_google_sheets)\n",
        "sheet = wb.worksheet('Data Gather')"
      ],
      "execution_count": null,
      "outputs": []
    },
    {
      "cell_type": "markdown",
      "metadata": {
        "id": "JPQzvRDeGc0l"
      },
      "source": [
        "Esse trecho executa o script na planilha\n"
      ]
    },
    {
      "cell_type": "code",
      "metadata": {
        "id": "2PXdI32jGcXc"
      },
      "source": [
        ""
      ],
      "execution_count": null,
      "outputs": []
    },
    {
      "cell_type": "markdown",
      "metadata": {
        "id": "p7lDSNRpGyed"
      },
      "source": [
        "Esse trecho exibe os erros encontrados na Planilha"
      ]
    },
    {
      "cell_type": "code",
      "metadata": {
        "id": "DpACa55EG2CD"
      },
      "source": [
        ""
      ],
      "execution_count": null,
      "outputs": []
    },
    {
      "cell_type": "markdown",
      "metadata": {
        "id": "izMrK5Y0G2kI"
      },
      "source": [
        "Esse trecho gera o esboço do Documento\n"
      ]
    },
    {
      "cell_type": "code",
      "metadata": {
        "id": "sFcp2EE_G__-"
      },
      "source": [
        ""
      ],
      "execution_count": null,
      "outputs": []
    }
  ]
}