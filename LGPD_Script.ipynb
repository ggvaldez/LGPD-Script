{
  "nbformat": 4,
  "nbformat_minor": 0,
  "metadata": {
    "colab": {
      "name": "LGPD-Script",
      "provenance": [],
      "collapsed_sections": [],
      "authorship_tag": "ABX9TyPi8zYAwqohCZNTfwf2QUPg",
      "include_colab_link": true
    },
    "kernelspec": {
      "name": "python3",
      "display_name": "Python 3"
    },
    "language_info": {
      "name": "python"
    }
  },
  "cells": [
    {
      "cell_type": "markdown",
      "metadata": {
        "id": "view-in-github",
        "colab_type": "text"
      },
      "source": [
        "<a href=\"https://colab.research.google.com/github/ggvaldez/LGPD-Script/blob/main/LGPD_Script.ipynb\" target=\"_parent\"><img src=\"https://colab.research.google.com/assets/colab-badge.svg\" alt=\"Open In Colab\"/></a>"
      ]
    },
    {
      "cell_type": "markdown",
      "metadata": {
        "id": "o7ul8Q84GET8"
      },
      "source": [
        "Para Rodar todo o script:\n",
        "\n",
        "1 - defina a URL abaixo \n",
        "\n",
        "2 - clique em \"Ambiente de Execução\" e em seguida \"Executar Tudo\" (Ou pressione CRTL +F9)\n",
        "\n",
        "-----------------------\n",
        "\n",
        "Defina aqui a URL da planilha a ser utilizada para a LGPD"
      ]
    },
    {
      "cell_type": "code",
      "metadata": {
        "id": "tAcUvnRiF_oa"
      },
      "source": [
        "url_google_sheets = 'https://docs.google.com/spreadsheets/d/DOCUMENTO_AQUI' # Insira a url dentro das aspas"
      ],
      "execution_count": 1,
      "outputs": []
    },
    {
      "cell_type": "markdown",
      "metadata": {
        "id": "0640gc_6GVgI"
      },
      "source": [
        "Autentica na sua conta Google e acessa a Planilha\n"
      ]
    },
    {
      "cell_type": "code",
      "metadata": {
        "id": "WnMlvbANEmOK"
      },
      "source": [
        "from google.colab import auth\n",
        "auth.authenticate_user()\n",
        "import gspread\n",
        "from oauth2client.client import GoogleCredentials\n",
        "gc = gspread.authorize(GoogleCredentials.get_application_default())\n",
        "wb = gc.open_by_url(url_google_sheets)\n",
        "sheet = wb.worksheet('2-Inventario')\n",
        "values_list = sheet.col_values(3)"
      ],
      "execution_count": null,
      "outputs": []
    },
    {
      "cell_type": "markdown",
      "metadata": {
        "id": "OwMWClogTZdC"
      },
      "source": [
        "Identifica os Inventários e importa outras planilhas\n",
        "\n",
        "Exibe Planilhas faltantes\n",
        "\n"
      ]
    },
    {
      "cell_type": "code",
      "metadata": {
        "id": "2PXdI32jGcXc"
      },
      "source": [
        "idp_sheets = {}\n",
        "errors = []\n",
        "in_header = True\n",
        "for item in values_list:\n",
        "  if (not(in_header)):\n",
        "    try:\n",
        "      idp_sheets[item] = wb.worksheet(item).get_all_values()\n",
        "    except:\n",
        "      errors.append(\"Falta a Planilha: \" + item)\n",
        "  elif (item == 'Nº Ref / ID'):\n",
        "    in_header = False\n",
        "\n",
        "print (errors)"
      ],
      "execution_count": null,
      "outputs": []
    },
    {
      "cell_type": "code",
      "metadata": {
        "id": "AKWh7ZmXTlsZ"
      },
      "source": [
        "index = 0\n",
        "for item in idp_sheets['ASCOM-01']:\n",
        "  print(index, item)\n",
        "  index = index + 1\n"
      ],
      "execution_count": null,
      "outputs": []
    }
  ]
}