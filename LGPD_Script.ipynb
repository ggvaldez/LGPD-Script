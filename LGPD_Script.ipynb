{
  "nbformat": 4,
  "nbformat_minor": 0,
  "metadata": {
    "colab": {
      "name": "LGPD-Script",
      "provenance": [],
      "collapsed_sections": [],
      "authorship_tag": "ABX9TyMZiWbZCn5DCB48dj12Sygx",
      "include_colab_link": true
    },
    "kernelspec": {
      "name": "python3",
      "display_name": "Python 3"
    },
    "language_info": {
      "name": "python"
    }
  },
  "cells": [
    {
      "cell_type": "markdown",
      "metadata": {
        "id": "view-in-github",
        "colab_type": "text"
      },
      "source": [
        "<a href=\"https://colab.research.google.com/github/ggvaldez/LGPD-Script/blob/main/LGPD_Script.ipynb\" target=\"_parent\"><img src=\"https://colab.research.google.com/assets/colab-badge.svg\" alt=\"Open In Colab\"/></a>"
      ]
    },
    {
      "cell_type": "markdown",
      "metadata": {
        "id": "o7ul8Q84GET8"
      },
      "source": [
        "Para cada trecho de código, siga as instruções e então rode o código\n",
        "\n",
        "-------------\n",
        "\n",
        "Defina aqui a URL, Secretaria e data da planilha a ser utilizada para a criação dos RIPDs\n",
        "\n",
        "Esse código inicializa algumas informações."
      ]
    },
    {
      "cell_type": "code",
      "metadata": {
        "id": "tAcUvnRiF_oa"
      },
      "source": [
        "url_google_sheets = 'https://docs.google.com/spreadsheets/d/DOCUMENTO_AQUI' # Insira a url dentro das aspas\n",
        "secretaria = 'Secretaria de Inovação, Ciência e Tecnologia'\n",
        "secretaria_curto = 'SICT'\n",
        "data_doc = '25/07/2021'\n",
        "data_long = '25 de Julho de 2021'"
      ],
      "execution_count": 12,
      "outputs": []
    },
    {
      "cell_type": "markdown",
      "metadata": {
        "id": "0640gc_6GVgI"
      },
      "source": [
        "Autentica na sua conta Google e acessa a Planilha\n",
        "\n",
        "Após rodar, autentique no google e copie e cole o código.\n"
      ]
    },
    {
      "cell_type": "code",
      "metadata": {
        "id": "WnMlvbANEmOK"
      },
      "source": [
        "from google.colab import auth\n",
        "auth.authenticate_user()\n",
        "import gspread\n",
        "from oauth2client.client import GoogleCredentials\n",
        "gc = gspread.authorize(GoogleCredentials.get_application_default())\n",
        "wb = gc.open_by_url(url_google_sheets)\n",
        "sheet = wb.worksheet('2-Inventario')\n",
        "values_list = sheet.col_values(3)\n"
      ],
      "execution_count": 13,
      "outputs": []
    },
    {
      "cell_type": "markdown",
      "metadata": {
        "id": "OwMWClogTZdC"
      },
      "source": [
        "Identifica os Inventários e importa outras planilhas\n",
        "\n",
        "Exibe Planilhas faltantes (que constam em 1-Inventario, mas não existem no documento)\n",
        "\n"
      ]
    },
    {
      "cell_type": "code",
      "metadata": {
        "colab": {
          "base_uri": "https://localhost:8080/"
        },
        "id": "2PXdI32jGcXc",
        "outputId": "2984c902-7867-4bed-98db-1d879b9eaefa"
      },
      "source": [
        "idp_sheets = {}\n",
        "errors = []\n",
        "in_header = True\n",
        "for item in values_list:\n",
        "  if (not(in_header)):\n",
        "    try:\n",
        "      idp_sheets[item] = wb.worksheet(item).get_all_values()\n",
        "    except:\n",
        "      errors.append(\"Falta a Planilha: \" + item)\n",
        "  elif (item == 'Nº Ref / ID'):\n",
        "    in_header = False\n",
        "\n",
        "print (errors)"
      ],
      "execution_count": 14,
      "outputs": [
        {
          "output_type": "stream",
          "text": [
            "['Falta a Planilha: DAD-01', 'Falta a Planilha: DAD-02']\n"
          ],
          "name": "stdout"
        }
      ]
    },
    {
      "cell_type": "markdown",
      "metadata": {
        "id": "_79oasTKiszv"
      },
      "source": [
        "Instala no ambiente uma biblioteca que manipula arquivos docx"
      ]
    },
    {
      "cell_type": "code",
      "metadata": {
        "id": "ohxzgsOJB4Ja"
      },
      "source": [
        "!pip install docxtpl\n",
        "from docxtpl import DocxTemplate"
      ],
      "execution_count": null,
      "outputs": []
    },
    {
      "cell_type": "markdown",
      "metadata": {
        "id": "DHspKFXli4go"
      },
      "source": [
        "Antes de executar, carregue (á esquerda, em arquivos, icone da pasta) a versão mais atualizada do arquivo 'template.docx' disponível em\n",
        "https://github.com/ggvaldez/LGPD-Script/blob/main/template.docx\n",
        "\n",
        "Caso queira fazer alterações em todos os documentos, modifique esse arquivo Word antes de enviar.\n",
        "\n",
        "Gera todos os esboços RIPD"
      ]
    },
    {
      "cell_type": "code",
      "metadata": {
        "id": "AKWh7ZmXTlsZ"
      },
      "source": [
        "for atvd_id in idp_sheets.keys():\n",
        "  index = 0\n",
        "  sheet_dict = {}\n",
        "  table_riscos = []\n",
        "  sheet_context = {}\n",
        "  risco_id = 1\n",
        "  for item in idp_sheets[atvd_id]:\n",
        "\n",
        "    substring = item[0].split(\" \",3)[0] # id da linha da planilha\n",
        "    sheet_dict[substring] = index # pode ser removido em versão futura ?\n",
        "    sheet_context[\"i\" + substring.replace('.','i')] = idp_sheets[atvd_id][sheet_dict.get(substring)][1]\n",
        "    \n",
        "    if (substring.startswith('16.')): # tabela riscos\n",
        "      if(idp_sheets[atvd_id][sheet_dict.get(substring)][5] != '' and idp_sheets[atvd_id][sheet_dict.get(substring)][5] != 'Não se aplica'):\n",
        "        table_riscos.append({'id': risco_id,\n",
        "                            'risco': idp_sheets[atvd_id][sheet_dict.get(substring)][1],\n",
        "                            'impacto': idp_sheets[atvd_id][sheet_dict.get(substring)][5],\n",
        "                            'prob': idp_sheets[atvd_id][sheet_dict.get(substring)][6]\n",
        "                            })\n",
        "        risco_id = risco_id + 1\n",
        "    stri = ''\n",
        "    it = item[0].split(\" \")\n",
        "    for s in range(2, len(it)):\n",
        "        if (s == len(it) - 1):\n",
        "          stri = stri + it[s]\n",
        "        else:\n",
        "          stri = stri + it[s] + ' '\n",
        "    # indexa as colunas para facilitar o acesso ao dados no template\n",
        "    sheet_context[\"i\" + substring.replace('.','i') + 'a'] = stri \n",
        "    sheet_context[\"i\" + substring.replace('.','i') + 'c'] = idp_sheets[atvd_id][sheet_dict.get(substring)][2]\n",
        "    sheet_context[\"i\" + substring.replace('.','i') + 'd'] = idp_sheets[atvd_id][sheet_dict.get(substring)][3]\n",
        "    sheet_context[\"i\" + substring.replace('.','i') + 'e'] = idp_sheets[atvd_id][sheet_dict.get(substring)][4]\n",
        "    sheet_context[\"i\" + substring.replace('.','i') + 'f'] = idp_sheets[atvd_id][sheet_dict.get(substring)][5]\n",
        "    sheet_context[\"i\" + substring.replace('.','i') + 'g'] = idp_sheets[atvd_id][sheet_dict.get(substring)][6]\n",
        "    index = index + 1\n",
        "  sheet_context['secretaria'] = secretaria\n",
        "  sheet_context['secretariacurto'] = secretaria_curto\n",
        "  sheet_context['datadoc'] = data_doc\n",
        "  sheet_context['datalong'] = data_long\n",
        "  remove_keys = []\n",
        "  add_keys = []\n",
        "  for i in sheet_context.keys(): # limpa celulas em branco para poder usar testes 'if' no template\n",
        "    if sheet_context[i] == '':\n",
        "      remove_keys.append(i)\n",
        "  for i in remove_keys:\n",
        "    del(sheet_context[i])\n",
        "  for i in sheet_context.keys(): # adiciona chaves especificas para remover cabeçalhos desnecessários em \"escopo do documento\"\n",
        "    for j in range (1, 15):\n",
        "      if (i == 'i8i'+str(j)):\n",
        "        add_keys.append('i8existe')\n",
        "      for k in range (1, 15):\n",
        "        if (i == 'i7i'+str(j)+'i'+str(k)):\n",
        "          add_keys.append('i7i' + str(j) + 'existe')\n",
        "  for i in add_keys:\n",
        "    sheet_context[i] = 'S'\n",
        "  sheet_context['table_riscos'] = table_riscos\n",
        "  doc = DocxTemplate(\"template.docx\")\n",
        "  doc.render(sheet_context)\n",
        "  doc.save(\"RIPD \"+atvd_id +\" esboço.docx\")\n",
        "  print (\"Gerado arquivo RIPD \"+atvd_id +\" esboço.docx\")\n"
      ],
      "execution_count": null,
      "outputs": []
    },
    {
      "cell_type": "markdown",
      "metadata": {
        "id": "nSjK-2J-i9xo"
      },
      "source": [
        "Zipa todos os arquivos .docx para facilitar o download"
      ]
    },
    {
      "cell_type": "code",
      "metadata": {
        "id": "sbFjN-LGhUib"
      },
      "source": [
        "!zip -r ./RIPD-esboco.zip ./*.docx\n"
      ],
      "execution_count": null,
      "outputs": []
    }
  ]
}